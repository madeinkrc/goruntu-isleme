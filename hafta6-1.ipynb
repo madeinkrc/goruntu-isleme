{
 "cells": [
  {
   "cell_type": "code",
   "execution_count": 1,
   "metadata": {
    "collapsed": true
   },
   "outputs": [],
   "source": [
    "myPoint_1=[0,0]\n",
    "myPoint_2=[1,0]\n",
    "myPoint_3=[0,1]\n",
    "myPoint_4=[1,1]"
   ]
  },
  {
   "cell_type": "code",
   "execution_count": 2,
   "metadata": {},
   "outputs": [
    {
     "data": {
      "text/plain": [
       "[0, 0]"
      ]
     },
     "execution_count": 2,
     "metadata": {},
     "output_type": "execute_result"
    }
   ],
   "source": [
    "myPoint_1"
   ]
  },
  {
   "cell_type": "code",
   "execution_count": 10,
   "metadata": {
    "collapsed": true
   },
   "outputs": [],
   "source": [
    "a=(myPoint_2[0]-myPoint_3[0])**2\n",
    "b=(myPoint_2[1]-myPoint_3[1])**2"
   ]
  },
  {
   "cell_type": "code",
   "execution_count": 11,
   "metadata": {},
   "outputs": [
    {
     "data": {
      "text/plain": [
       "1.4142135623730951"
      ]
     },
     "execution_count": 11,
     "metadata": {},
     "output_type": "execute_result"
    }
   ],
   "source": [
    "#myPoint_1 ile myPoint_2 arasındaki uzaklık\n",
    "import math\n",
    "d_1_2=math.sqrt(a+b)\n",
    "d_1_2"
   ]
  },
  {
   "cell_type": "code",
   "execution_count": 12,
   "metadata": {
    "collapsed": true
   },
   "outputs": [],
   "source": [
    "#İki vektör arasındaki uzaklığı bulan fonksiyon.\n",
    "#tek bir fonksiyonda birleştirme\n",
    "import math\n",
    "def myInstance(a,b):\n",
    "    myPoint_1=a\n",
    "    myPoint_2=b\n",
    "    a=(myPoint_1[0]-myPoint_2[0])**2\n",
    "    b=(myPoint_1[1]-myPoint_2[1])**2\n",
    "    return math.sqrt(a+b)"
   ]
  },
  {
   "cell_type": "code",
   "execution_count": 13,
   "metadata": {
    "collapsed": true
   },
   "outputs": [],
   "source": [
    "myPoint_1=[0,0]\n",
    "myPoint_2=[1,0]\n",
    "myPoint_3=[0,1]\n",
    "myPoint_4=[1,1]"
   ]
  },
  {
   "cell_type": "code",
   "execution_count": 14,
   "metadata": {},
   "outputs": [
    {
     "data": {
      "text/plain": [
       "1.4142135623730951"
      ]
     },
     "execution_count": 14,
     "metadata": {},
     "output_type": "execute_result"
    }
   ],
   "source": [
    "myInstance(myPoint_2,myPoint_3)"
   ]
  }
 ],
 "metadata": {
  "kernelspec": {
   "display_name": "Python 3",
   "language": "python",
   "name": "python3"
  },
  "language_info": {
   "codemirror_mode": {
    "name": "ipython",
    "version": 3
   },
   "file_extension": ".py",
   "mimetype": "text/x-python",
   "name": "python",
   "nbconvert_exporter": "python",
   "pygments_lexer": "ipython3",
   "version": "3.6.1"
  }
 },
 "nbformat": 4,
 "nbformat_minor": 2
}
