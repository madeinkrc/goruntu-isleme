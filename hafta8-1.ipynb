{
 "cells": [
  {
   "cell_type": "code",
   "execution_count": 1,
   "metadata": {
    "collapsed": true
   },
   "outputs": [],
   "source": [
    "myList = [ 1,3,4,2,1,5,7,9,5,2,1,40 ]"
   ]
  },
  {
   "cell_type": "code",
   "execution_count": 2,
   "metadata": {},
   "outputs": [
    {
     "data": {
      "text/plain": [
       "[1, 3, 4, 2, 1, 5, 7, 9, 5, 2, 1, 40]"
      ]
     },
     "execution_count": 2,
     "metadata": {},
     "output_type": "execute_result"
    }
   ],
   "source": [
    "myList"
   ]
  },
  {
   "cell_type": "code",
   "execution_count": 3,
   "metadata": {
    "collapsed": true
   },
   "outputs": [],
   "source": [
    "import numpy as np"
   ]
  },
  {
   "cell_type": "code",
   "execution_count": 4,
   "metadata": {},
   "outputs": [
    {
     "data": {
      "text/plain": [
       "array([2, 2, 2, 2, 4])"
      ]
     },
     "execution_count": 4,
     "metadata": {},
     "output_type": "execute_result"
    }
   ],
   "source": [
    "np.random.randint(2,5,5)"
   ]
  },
  {
   "cell_type": "code",
   "execution_count": 5,
   "metadata": {
    "collapsed": true
   },
   "outputs": [],
   "source": [
    "my_Numbers=np.random.randint(1,10,5)"
   ]
  },
  {
   "cell_type": "code",
   "execution_count": 6,
   "metadata": {},
   "outputs": [
    {
     "data": {
      "text/plain": [
       "array([8, 6, 8, 7, 4])"
      ]
     },
     "execution_count": 6,
     "metadata": {},
     "output_type": "execute_result"
    }
   ],
   "source": [
    "my_Numbers"
   ]
  },
  {
   "cell_type": "code",
   "execution_count": 9,
   "metadata": {},
   "outputs": [
    {
     "data": {
      "text/plain": [
       "(array([8, 6, 8, 7, 4]), [[8, 1]], 1)"
      ]
     },
     "execution_count": 9,
     "metadata": {},
     "output_type": "execute_result"
    }
   ],
   "source": [
    "myHistogram=[[my_Numbers[0],1]]\n",
    "my_Numbers , myHistogram , len(myHistogram)"
   ]
  },
  {
   "cell_type": "code",
   "execution_count": 15,
   "metadata": {},
   "outputs": [
    {
     "ename": "IndentationError",
     "evalue": "expected an indented block (<ipython-input-15-a0b7c3a1f640>, line 11)",
     "output_type": "error",
     "traceback": [
      "\u001b[1;36m  File \u001b[1;32m\"<ipython-input-15-a0b7c3a1f640>\"\u001b[1;36m, line \u001b[1;32m11\u001b[0m\n\u001b[1;33m    myHistogram.append([number,1])\u001b[0m\n\u001b[1;37m              ^\u001b[0m\n\u001b[1;31mIndentationError\u001b[0m\u001b[1;31m:\u001b[0m expected an indented block\n"
     ]
    }
   ],
   "source": [
    "#Burada bir tupple oluşturuyoruz.Histogram(bir dizideki sayıdan o dizide kaç tane olduğunu gösterir.)\n",
    "for number in my_Numbers:\n",
    "    for index , counter in enumerate (myHistogram):\n",
    "        if(len(myHistogram))!= 0:\n",
    "            for histItem in myHistogram:\n",
    "                if (number==histItem[0]):\n",
    "                    histItem[1]=histItem[1]+1\n",
    "                else:\n",
    "                    myHistogram.append([number,1])\n",
    "            else:\n",
    "            myHistogram.append([number,1])\n",
    "myHistogram\n",
    "\n",
    "#yapmak istediğimiz yapı tupple de yok ve bunu list de dene."
   ]
  },
  {
   "cell_type": "code",
   "execution_count": 16,
   "metadata": {
    "collapsed": true
   },
   "outputs": [],
   "source": [
    "var_1=(1,2,3)\n",
    "var_2=(2,5,3)\n",
    "var_3=(1,5,3)\n",
    "var_4=(2,5,6)"
   ]
  },
  {
   "cell_type": "code",
   "execution_count": 17,
   "metadata": {},
   "outputs": [
    {
     "name": "stdout",
     "output_type": "stream",
     "text": [
      "1 ve 2 nin 3. degerleri esit\n"
     ]
    }
   ],
   "source": [
    "if var_1[2]==var_2[2]:\n",
    "    print(\"1 ve 2 nin 3. degerleri esit\")\n",
    "else:\n",
    "    print(\"4 ve 2 esit DEGIL\")"
   ]
  }
 ],
 "metadata": {
  "kernelspec": {
   "display_name": "Python 3",
   "language": "python",
   "name": "python3"
  },
  "language_info": {
   "codemirror_mode": {
    "name": "ipython",
    "version": 3
   },
   "file_extension": ".py",
   "mimetype": "text/x-python",
   "name": "python",
   "nbconvert_exporter": "python",
   "pygments_lexer": "ipython3",
   "version": "3.6.1"
  }
 },
 "nbformat": 4,
 "nbformat_minor": 2
}
