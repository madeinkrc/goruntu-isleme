{
 "cells": [
  {
   "cell_type": "code",
   "execution_count": 1,
   "metadata": {},
   "outputs": [
    {
     "name": "stdout",
     "output_type": "stream",
     "text": [
      "Kaç elemanlı bir dizi üretilsin?\n",
      ">>> 10\n"
     ]
    }
   ],
   "source": [
    "import random\n",
    "sayac = 0\n",
    "dizi = []\n",
    "sayi = int(input(\"Kaç elemanlı bir dizi üretilsin?\\n>>> \"))"
   ]
  },
  {
   "cell_type": "code",
   "execution_count": 2,
   "metadata": {
    "collapsed": true
   },
   "outputs": [],
   "source": [
    "while(sayac < sayi):\n",
    "    a = random.randint(10,20)\n",
    "    dizi.append(a)\n",
    "    sayac += 1"
   ]
  },
  {
   "cell_type": "code",
   "execution_count": 3,
   "metadata": {},
   "outputs": [
    {
     "name": "stdout",
     "output_type": "stream",
     "text": [
      "[10, 13, 14, 14, 16, 17, 17, 18, 19, 19]\n"
     ]
    }
   ],
   "source": [
    "dizi.sort()\n",
    "print(dizi)"
   ]
  },
  {
   "cell_type": "code",
   "execution_count": 4,
   "metadata": {},
   "outputs": [
    {
     "name": "stdout",
     "output_type": "stream",
     "text": [
      "10 \t: 1 adet\n",
      "13 \t: 1 adet\n",
      "14 \t: 2 adet\n",
      "16 \t: 1 adet\n",
      "17 \t: 2 adet\n",
      "18 \t: 1 adet\n",
      "19 \t: 2 adet\n"
     ]
    }
   ],
   "source": [
    "adet = 0\n",
    "for i in range(sayi):\n",
    "    adet = 1\n",
    "    for j in range(i, sayi-1):\n",
    "        if(dizi[i] == dizi[j+1] and (dizi[i] != -1 or dizi[j+1] != -1)):\n",
    "            adet += 1\n",
    "            dizi[j+1] = -1\n",
    "    if(dizi[i] != -1):\n",
    "        print(dizi[i], \"\\t:\", adet, \"adet\")"
   ]
  },
  {
   "cell_type": "code",
   "execution_count": null,
   "metadata": {
    "collapsed": true
   },
   "outputs": [],
   "source": []
  }
 ],
 "metadata": {
  "kernelspec": {
   "display_name": "Python 3",
   "language": "python",
   "name": "python3"
  },
  "language_info": {
   "codemirror_mode": {
    "name": "ipython",
    "version": 3
   },
   "file_extension": ".py",
   "mimetype": "text/x-python",
   "name": "python",
   "nbconvert_exporter": "python",
   "pygments_lexer": "ipython3",
   "version": "3.6.1"
  }
 },
 "nbformat": 4,
 "nbformat_minor": 2
}
