{
 "cells": [
  {
   "cell_type": "code",
   "execution_count": 1,
   "metadata": {
    "collapsed": true
   },
   "outputs": [],
   "source": [
    "# T harfi için\n",
    "# 0: Black\n",
    "# 1: White\n",
    "# of edge: 8\n",
    "# of corner: 8\n",
    "# External 1 0 veya 0 1 veya 0 0 veya 0 0\n",
    "# 0 0 0 0 1 0 0 1\n",
    "# Internal 0 1 veya 1 0 veya 1 1 veya 1 1\n",
    "# 1 1 1 1 0 1 1 0\n",
    "#i_m : interal mask , e_m : external mask\n",
    "\n",
    "i_m_1=[[1,0],[0,0]]\n",
    "i_m_2=[[0,1],[0,0]]\n",
    "i_m_3=[[0,0],[1,0]]\n",
    "i_m_4=[[0,0],[0,1]]\n",
    "\n",
    "e_m_1=[[0,1],[1,1]]\n",
    "e_m_2=[[1,0],[1,1]]\n",
    "e_m_3=[[1,1],[0,1]]\n",
    "e_m_4=[[1,1],[1,0]]\n",
    "\n",
    "i_m_l=[i_m_1,i_m_2,i_m_3,i_m_4]\n",
    "e_m_l=[e_m_1,e_m_2,e_m_3,e_m_4]"
   ]
  },
  {
   "cell_type": "code",
   "execution_count": 2,
   "metadata": {},
   "outputs": [
    {
     "data": {
      "image/png": "[encoded data removed]",
      "text/plain": [
       "<matplotlib.figure.Figure at 0x8d45a20>"
      ]
     },
     "metadata": {},
     "output_type": "display_data"
    }
   ],
   "source": [
    "import numpy as np\n",
    "import matplotlib.pyplot as plt\n",
    "\n",
    "img_1=plt.imread('C:\\\\Users\\\\Karaca\\\\Documents\\\\GoruntuIsleme\\\\T.jpg')\n",
    "\n",
    "#SAHTE RESİM OLUŞTURMA\n",
    "size=25\n",
    "img_3=np.random.randint(0,2,(size,size))\n",
    "img_3    #sahte resim , you should read from a file.\n",
    "\n",
    "plt.subplot(1,2,1), plt.imshow(img_1,cmap='Greys',interpolation='nearest')\n",
    "plt.subplot(1,2,2), plt.imshow(img_3,cmap='Greys',interpolation='nearest')\n",
    "plt.show()"
   ]
  },
  {
   "cell_type": "code",
   "execution_count": 14,
   "metadata": {
    "collapsed": true
   },
   "outputs": [],
   "source": [
    "image_5=np.zeros(img_1.shape[0:2])"
   ]
  },
  {
   "cell_type": "code",
   "execution_count": 20,
   "metadata": {
    "collapsed": true
   },
   "outputs": [],
   "source": [
    "def Cevir(image):\n",
    "    threshold=100\n",
    "    for i in range(img_1.shape[0]):\n",
    "        for j in range(img_1.shape[1]):\n",
    "            n=img_1[i,j,0]/3+img_1[i,j,1]/3+img_1[i,j,2]/3\n",
    "            image[i,j]=n\n",
    "            if n>threshold:\n",
    "                image_5[i,j]=0\n",
    "            else:\n",
    "                image_5[i,j]=255 \n",
    "    return image_5"
   ]
  },
  {
   "cell_type": "code",
   "execution_count": 21,
   "metadata": {},
   "outputs": [
    {
     "data": {
      "image/png": "[encoded data removed]",
      "text/plain": [
       "<matplotlib.figure.Figure at 0x9a152e8>"
      ]
     },
     "metadata": {},
     "output_type": "display_data"
    }
   ],
   "source": [
    "plt.imshow(Cevir(img_1) , plt.cm.binary)\n",
    "plt.show()"
   ]
  },
  {
   "cell_type": "code",
   "execution_count": 22,
   "metadata": {},
   "outputs": [
    {
     "data": {
      "text/plain": [
       "2"
      ]
     },
     "execution_count": 22,
     "metadata": {},
     "output_type": "execute_result"
    }
   ],
   "source": [
    "c=Cevir(img_1)\n",
    "c.ndim"
   ]
  },
  {
   "cell_type": "code",
   "execution_count": 23,
   "metadata": {
    "collapsed": true
   },
   "outputs": [],
   "source": [
    "def count_mask(image,mask):\n",
    "    counter=0\n",
    "    m,n=image.shape\n",
    "    for i in range (m-1):\n",
    "        for j in range (n-1):\n",
    "            a=b=c=d=False\n",
    "            if (image[i,j]==mask[0][0]):\n",
    "                a=True\n",
    "            if (image[i,j+1]==mask[0][1]):\n",
    "                b=True\n",
    "            if (image[i+1,j]==mask[1][0]):\n",
    "                c=True\n",
    "            if (image[i+1,j+1]==mask[1][1]):\n",
    "                d=True\n",
    "            if (a and b and c and d):\n",
    "                counter=counter+1\n",
    "    return counter"
   ]
  },
  {
   "cell_type": "code",
   "execution_count": 24,
   "metadata": {
    "collapsed": true
   },
   "outputs": [],
   "source": [
    "def count_internal_mask(image):\n",
    "    counter_internal=0\n",
    "    for mask in i_m_l:\n",
    "        counter_internal=counter_internal + count_mask(image,mask)\n",
    "    return counter_internal\n",
    "\n",
    "def count_external_mask(image):\n",
    "    counter_external=0\n",
    "    for mask in e_m_l:\n",
    "        counter_external=counter_external + count_mask(image,mask)\n",
    "    return counter_external"
   ]
  },
  {
   "cell_type": "code",
   "execution_count": 25,
   "metadata": {},
   "outputs": [
    {
     "data": {
      "text/plain": [
       "(150, 152)"
      ]
     },
     "execution_count": 25,
     "metadata": {},
     "output_type": "execute_result"
    }
   ],
   "source": [
    "c_1=count_internal_mask(img_3) # Köşe sayısı\n",
    "c_2=count_external_mask(img_3) # Köşe içinde kalan alan\n",
    "c_1,c_2"
   ]
  },
  {
   "cell_type": "code",
   "execution_count": 26,
   "metadata": {
    "collapsed": true
   },
   "outputs": [],
   "source": [
    "#ödev math.abs(c_1-c_2)/4"
   ]
  },
  {
   "cell_type": "code",
   "execution_count": 27,
   "metadata": {
    "collapsed": true
   },
   "outputs": [],
   "source": [
    "import matplotlib.pyplot as plt\n",
    "import numpy as np\n",
    "import math\n",
    "from scipy.misc import imsave\n",
    "%matplotlib inline"
   ]
  },
  {
   "cell_type": "code",
   "execution_count": 28,
   "metadata": {
    "collapsed": true
   },
   "outputs": [],
   "source": [
    "def convert_RGB_to_gray_level(image_1):\n",
    "    img_1=plt.imread(image_1)\n",
    "    img_2=np.zeros((img_1.shape[0],img_1.shape[1]))\n",
    "    for i in range(img_2.shape[0]):\n",
    "        for j in range(img_2.shape[1]):\n",
    "            img_2[i,j]=img_1[i,j,0]/3+img_1[i,j,1]/3+img_1[i,j,2]/3\n",
    "    # print(img_1.shape)\n",
    "    return img_2"
   ]
  },
  {
   "cell_type": "code",
   "execution_count": 29,
   "metadata": {
    "collapsed": true
   },
   "outputs": [],
   "source": [
    "def convert_RGB_to_monochrome_BW(image_1,threshold=100):\n",
    "    img_1=plt.imread(image_1)\n",
    "    img_2=np.zeros((img_1.shape[0],img_1.shape[1]))\n",
    "    for i in range(img_2.shape[0]):\n",
    "        for j in range(img_2.shape[1]):\n",
    "            if (img_1[i,j,0]/3+img_1[i,j,1]/3+img_1[i,j,2]/3)>threshold:\n",
    "                # img_2[i,j]=img_1[i,j,0]/3+img_1[i,j,1]/3+img_1[i,j,2]/3\n",
    "                img_2[i,j]=1\n",
    "            else:\n",
    "                img_2[i,j]=0\n",
    "    #print(img_1.shape)\n",
    "    return img_2"
   ]
  },
  {
   "cell_type": "code",
   "execution_count": 30,
   "metadata": {
    "collapsed": true
   },
   "outputs": [],
   "source": [
    "def create_mask_internal():\n",
    "    i_m_1=np.array([[1,0],[0,0]])\n",
    "    i_m_2=np.array([[0,1],[0,0]])\n",
    "    i_m_3=np.array([[0,0],[1,0]])\n",
    "    i_m_4=np.array([[0,0],[0,1]])\n",
    "    i_m_l=[i_m_1,i_m_2,i_m_3,i_m_4]\n",
    "    return i_m_l\n",
    "\n",
    "def create_mask_external():\n",
    "    e_m_1=np.array([[0,1],[1,1]])\n",
    "    e_m_2=np.array([[1,0],[1,1]])\n",
    "    e_m_3=np.array([[1,1],[0,1]])\n",
    "    e_m_4=np.array([[1,1],[1,0]])\n",
    "    e_m_l=[e_m_1,e_m_2,e_m_3,e_m_4]\n",
    "    return e_m_l"
   ]
  },
  {
   "cell_type": "code",
   "execution_count": 31,
   "metadata": {
    "collapsed": true
   },
   "outputs": [],
   "source": [
    "def count_object(image_name_with_path,threshold=150):\n",
    "    img_file_1=image_name_with_path\n",
    "    img_file_2=convert_RGB_to_gray_level(img_file_1)\n",
    "    img_file_3=convert_RGB_to_monochrome_BW(img_file_1,threshold)\n",
    "    image=img_file_3\n",
    "    c_1=0\n",
    "    c_2=0\n",
    "    m,n=image.shape\n",
    "    for i in range(m-1):\n",
    "        for j in range(n-1):\n",
    "            for mask in create_mask_internal():\n",
    "                if False not in (img_file_3[i:i+2,j:j+2]==mask):\n",
    "                    #print(\"e mask bulundu\")\n",
    "                    c_1=c_1+1\n",
    "                for mask in create_mask_external():\n",
    "                    if False not in (img_file_3[i:i+2,j:j+2]==mask):\n",
    "                        #print(\"i mask bulundu\")\n",
    "                        c_2=c_2+1\n",
    "    number_of_objects=math.fabs((c_2-c_1)/4)\n",
    "    print(\"resimde toplam T sayısı : \",number_of_objects)\n",
    "    return number_of_objects"
   ]
  },
  {
   "cell_type": "code",
   "execution_count": 34,
   "metadata": {},
   "outputs": [
    {
     "name": "stdout",
     "output_type": "stream",
     "text": [
      "resimde toplam T sayısı :  27.5\n"
     ]
    },
    {
     "data": {
      "text/plain": [
       "27.5"
      ]
     },
     "execution_count": 34,
     "metadata": {},
     "output_type": "execute_result"
    }
   ],
   "source": [
    "image_file_1=r\"C:\\\\Users\\\\Karaca\\\\Documents\\\\GoruntuIsleme\\\\T_kume.jpg\"\n",
    "count_object(image_file_1)"
   ]
  }
 ],
 "metadata": {
  "kernelspec": {
   "display_name": "Python 3",
   "language": "python",
   "name": "python3"
  },
  "language_info": {
   "codemirror_mode": {
    "name": "ipython",
    "version": 3
   },
   "file_extension": ".py",
   "mimetype": "text/x-python",
   "name": "python",
   "nbconvert_exporter": "python",
   "pygments_lexer": "ipython3",
   "version": "3.6.1"
  }
 },
 "nbformat": 4,
 "nbformat_minor": 2
}
