{
 "cells": [
  {
   "cell_type": "code",
   "execution_count": 1,
   "metadata": {
    "collapsed": true
   },
   "outputs": [],
   "source": [
    "import matplotlib.pyplot as plt\n",
    "import numpy as np"
   ]
  },
  {
   "cell_type": "code",
   "execution_count": 2,
   "metadata": {
    "collapsed": true
   },
   "outputs": [],
   "source": [
    "def define_mask():\n",
    "    mask=[[1,1,1],[1,1,1],[1,1,1]] \n",
    "    #mask , mask[1][2],mask[0][0],mask[2][2] # mask [3][1] error\n",
    "    for i in range (3):\n",
    "        for j in range (3):\n",
    "            print (mask[i][j],end=\" \")\n",
    "        print()\n",
    "    return mask"
   ]
  },
  {
   "cell_type": "code",
   "execution_count": 3,
   "metadata": {
    "collapsed": true
   },
   "outputs": [],
   "source": [
    "def my_Dilation(img_1,mask):\n",
    "    m=img_1.shape[0]\n",
    "    n=img_1.shape[1]\n",
    "    img_2=np.random.randint(0,1,(m,n))\n",
    "    #neden \"for\"larda 1'den başlıyoruz ? çünkü mask'ı en tepeye koyduğumuzda taşar.\n",
    "    for i in range (1,m-1):\n",
    "         for j in range (1,n-1):\n",
    "            #print(i,j,img_1[i,j])\n",
    "            #apply_mask_1 for Dilation\n",
    "            \n",
    "            x_1=img_1[i,j] and mask[1][1] #x_1 merkez\n",
    "            x_2=img_1[i-1,j-1] and mask[0][0]\n",
    "            x_3=img_1[i-1,j] and mask[0][1]\n",
    "            x_4=img_1[i-1,j+1] and mask[0][2]\n",
    "            x_5=img_1[i+1,j-1] and mask[2][0]\n",
    "            x_6=img_1[i+1,j] and mask[2][1]\n",
    "            x_7=img_1[i+1,j+1] and mask[2][2]    \n",
    "            x_8=img_1[i,j-1] and mask[1][0]\n",
    "            x_9=img_1[i,j+1] and mask[1][2]\n",
    "\n",
    "            result_1 = x_1 or x_2 or x_3 or x_4 or x_5\n",
    "            result_2 = x_6 or x_7 or x_8 or x_9\n",
    "            result =  result_1 or result_2\n",
    "            \n",
    "            img_2[i,j] = result\n",
    "            \n",
    "    return img_2"
   ]
  },
  {
   "cell_type": "code",
   "execution_count": 57,
   "metadata": {
    "collapsed": true
   },
   "outputs": [],
   "source": [
    "def convert_RGB_to_monochrome_BW(image_1):\n",
    "    threshold=100\n",
    "    img_1=plt.imread(image_1)\n",
    "    img_2=np.zeros((img_1.shape[0],img_1.shape[1]))\n",
    "    for i in range(img_2.shape[0]):\n",
    "        for j in range(img_2.shape[1]):\n",
    "            if (img_1[i,j,0]/3+img_1[i,j,1]/3+img_1[i,j,2]/3)>threshold:\n",
    "                img_2[i,j]=0\n",
    "            else:\n",
    "                img_2[i,j]=1\n",
    "    return img_2"
   ]
  },
  {
   "cell_type": "code",
   "execution_count": 58,
   "metadata": {},
   "outputs": [],
   "source": [
    "image = r'C:\\Users\\Karaca\\Documents\\GoruntuIsleme\\s-harf.jpg'"
   ]
  },
  {
   "cell_type": "code",
   "execution_count": 59,
   "metadata": {},
   "outputs": [],
   "source": [
    "image_bw = convert_RGB_to_monochrome_BW(image)"
   ]
  },
  {
   "cell_type": "code",
   "execution_count": 60,
   "metadata": {},
   "outputs": [
    {
     "name": "stdout",
     "output_type": "stream",
     "text": [
      "1 1 1 \n",
      "1 1 1 \n",
      "1 1 1 \n"
     ]
    }
   ],
   "source": [
    "image_mask = my_Dilation(image_bw,define_mask())"
   ]
  },
  {
   "cell_type": "code",
   "execution_count": 61,
   "metadata": {},
   "outputs": [
    {
     "data": {
      "image/png": "[encoded data removed]",
      "text/plain": [
       "<matplotlib.figure.Figure at 0x8adb860>"
      ]
     },
     "metadata": {},
     "output_type": "display_data"
    }
   ],
   "source": [
    "plt.subplot(1,2,1) , plt.imshow(image_bw , cmap=\"gray\") #BW Resim\n",
    "plt.subplot(1,2,2) , plt.imshow(image_mask , cmap=\"gray\") #Genişletilmiş Resim\n",
    "plt.show()"
   ]
  }
 ],
 "metadata": {
  "kernelspec": {
   "display_name": "Python 3",
   "language": "python",
   "name": "python3"
  },
  "language_info": {
   "codemirror_mode": {
    "name": "ipython",
    "version": 3
   },
   "file_extension": ".py",
   "mimetype": "text/x-python",
   "name": "python",
   "nbconvert_exporter": "python",
   "pygments_lexer": "ipython3",
   "version": "3.6.3"
  }
 },
 "nbformat": 4,
 "nbformat_minor": 2
}
