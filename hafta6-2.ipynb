{
 "cells": [
  {
   "cell_type": "code",
   "execution_count": 1,
   "metadata": {
    "collapsed": true
   },
   "outputs": [],
   "source": [
    "myPoint_1=[0,0]\n",
    "myPoint_2=[1,0]\n",
    "myPoint_3=[0,1]\n",
    "myPoint_4=[1,1]"
   ]
  },
  {
   "cell_type": "code",
   "execution_count": 2,
   "metadata": {},
   "outputs": [
    {
     "data": {
      "text/plain": [
       "(0.5, 0.5)"
      ]
     },
     "execution_count": 2,
     "metadata": {},
     "output_type": "execute_result"
    }
   ],
   "source": [
    "#Dört tane noktanın orta noktası.\n",
    "a=myPoint_1[0]+myPoint_2[0]+myPoint_3[0]+myPoint_4[0]\n",
    "b=myPoint_1[1]+myPoint_2[1]+myPoint_3[1]+myPoint_4[1]\n",
    "center_Point=(a/4,b/4)\n",
    "center_Point"
   ]
  },
  {
   "cell_type": "code",
   "execution_count": 2,
   "metadata": {
    "collapsed": true
   },
   "outputs": [],
   "source": [
    "#Yukarıdaki yapının fonksiyon halinde yapılmış hali\n",
    "def findCenter(List_of_Points):\n",
    "    x=0\n",
    "    y=0\n",
    "    for point in List_of_Points:\n",
    "        x=x+point[0]\n",
    "        y=y+point[1]\n",
    "    length=len(List_of_Points)\n",
    "    return [x/length,y/length]"
   ]
  },
  {
   "cell_type": "code",
   "execution_count": 3,
   "metadata": {
    "collapsed": true
   },
   "outputs": [],
   "source": [
    "myPoint_1=[0,0]\n",
    "myPoint_2=[1,0]\n",
    "myPoint_3=[0,1]\n",
    "myPoint_4=[1,1]"
   ]
  },
  {
   "cell_type": "code",
   "execution_count": 4,
   "metadata": {
    "collapsed": true
   },
   "outputs": [],
   "source": [
    "my_Point_List=[]\n",
    "my_Point_List.append(myPoint_1)\n",
    "my_Point_List.append(myPoint_2)\n",
    "my_Point_List.append(myPoint_3)\n",
    "my_Point_List.append(myPoint_4)"
   ]
  },
  {
   "cell_type": "code",
   "execution_count": 5,
   "metadata": {},
   "outputs": [
    {
     "data": {
      "text/plain": [
       "4"
      ]
     },
     "execution_count": 5,
     "metadata": {},
     "output_type": "execute_result"
    }
   ],
   "source": [
    "len(my_Point_List)"
   ]
  },
  {
   "cell_type": "code",
   "execution_count": 6,
   "metadata": {},
   "outputs": [
    {
     "data": {
      "text/plain": [
       "[0.5, 0.5]"
      ]
     },
     "execution_count": 6,
     "metadata": {},
     "output_type": "execute_result"
    }
   ],
   "source": [
    "center=findCenter(my_Point_List)\n",
    "center"
   ]
  },
  {
   "cell_type": "code",
   "execution_count": 11,
   "metadata": {},
   "outputs": [
    {
     "name": "stdout",
     "output_type": "stream",
     "text": [
      "[[1 2 3]\n",
      " [2 6 9]]\n"
     ]
    }
   ],
   "source": [
    "import numpy as np\n",
    "my_Array=np.array([[1,2,3],[2,6,9]],np.int32)\n",
    "print(my_Array)"
   ]
  },
  {
   "cell_type": "code",
   "execution_count": 9,
   "metadata": {},
   "outputs": [
    {
     "data": {
      "text/plain": [
       "(2, (2, 3))"
      ]
     },
     "execution_count": 9,
     "metadata": {},
     "output_type": "execute_result"
    }
   ],
   "source": [
    "my_Array.ndim, my_Array.shape"
   ]
  },
  {
   "cell_type": "code",
   "execution_count": 12,
   "metadata": {},
   "outputs": [
    {
     "name": "stdout",
     "output_type": "stream",
     "text": [
      "[[1 2 3 2 6 9]]\n"
     ]
    }
   ],
   "source": [
    "my_Array_1=my_Array.reshape(1,6)\n",
    "print(my_Array_1)"
   ]
  }
 ],
 "metadata": {
  "kernelspec": {
   "display_name": "Python 3",
   "language": "python",
   "name": "python3"
  },
  "language_info": {
   "codemirror_mode": {
    "name": "ipython",
    "version": 3
   },
   "file_extension": ".py",
   "mimetype": "text/x-python",
   "name": "python",
   "nbconvert_exporter": "python",
   "pygments_lexer": "ipython3",
   "version": "3.6.1"
  }
 },
 "nbformat": 4,
 "nbformat_minor": 2
}
